{
 "cells": [
  {
   "cell_type": "markdown",
   "id": "3d435c95",
   "metadata": {},
   "source": [
    "# FIT1043\n",
    "## Assignment 2\n",
    "Name: Chee Cheng Mun\n",
    "\n",
    "Student Id: 34280332\n",
    "### Part A: Classification\n",
    "#### A1. Supervised Learning\n",
    "A1.1"
   ]
  },
  {
   "cell_type": "markdown",
   "id": "9fa7ae9a",
   "metadata": {},
   "source": [
    "Supervised Machine Learning (ML) studies the relationship between input and output data. \n",
    "It is a type of Machine Learning that uses the labelled dataset in order to train a model that recognize patterns and predict outcomes. \n",
    "In Supervised ML, inputs are usually known as features or X variable, while output is usually known as target or Y variable.\n",
    "Example of Supervised ML is image and speech recognition.\n",
    " \n",
    "Labelled data is data containing both the target and features. It is used to train computer models in Supervised ML. Input data is labelled with the expected output data. This process aims to discover a mapping function that maps an input variable onto an output variabled.\n",
    "\n",
    "Train dataset is a large set of data used to train the algorithm. It includes inputs and correct outputs which allows the model to perform comparison between them. The algorithm then measures its accuracy. Errors found will be further adjusted by the algorithm so that a more accurate model can be computed.\n",
    "\n",
    "Test dataset is a set of data used to evaluate the accuracy of the model. It is a part of the train dataset that has not been used during the model training, which means test and train datasets are never overlapped since they are both needed for different purpose. By evaluating the accuracy of the model, the algorithm can be further trained and adjusted to achive better results."
   ]
  },
  {
   "cell_type": "markdown",
   "id": "fb62542f",
   "metadata": {},
   "source": [
    "A1.2"
   ]
  },
  {
   "cell_type": "code",
   "execution_count": 428,
   "id": "d752dfcb",
   "metadata": {},
   "outputs": [],
   "source": [
    "import pandas as pd\n",
    "#importing modules"
   ]
  },
  {
   "cell_type": "code",
   "execution_count": 429,
   "id": "97d724ec",
   "metadata": {},
   "outputs": [],
   "source": [
    "df = pd.read_csv(\"FIT1043-MusicGenre-Dataset.csv\")"
   ]
  },
  {
   "cell_type": "markdown",
   "id": "4b98be8d",
   "metadata": {},
   "source": [
    "Features(instance_id - valence)"
   ]
  },
  {
   "cell_type": "code",
   "execution_count": 430,
   "id": "f7b49909",
   "metadata": {},
   "outputs": [],
   "source": [
    "x = df.iloc[:, 0:14]"
   ]
  },
  {
   "cell_type": "markdown",
   "id": "23258cd4",
   "metadata": {},
   "source": [
    "Label(music_genre)"
   ]
  },
  {
   "cell_type": "code",
   "execution_count": 431,
   "id": "e1ef1f10",
   "metadata": {},
   "outputs": [],
   "source": [
    "y = df.iloc[:, 14]"
   ]
  },
  {
   "cell_type": "markdown",
   "id": "b6d40fab",
   "metadata": {},
   "source": [
    "Check if the dataframe is separated as expectation"
   ]
  },
  {
   "cell_type": "code",
   "execution_count": 432,
   "id": "3bd1b0e3",
   "metadata": {},
   "outputs": [
    {
     "data": {
      "text/html": [
       "<div>\n",
       "<style scoped>\n",
       "    .dataframe tbody tr th:only-of-type {\n",
       "        vertical-align: middle;\n",
       "    }\n",
       "\n",
       "    .dataframe tbody tr th {\n",
       "        vertical-align: top;\n",
       "    }\n",
       "\n",
       "    .dataframe thead th {\n",
       "        text-align: right;\n",
       "    }\n",
       "</style>\n",
       "<table border=\"1\" class=\"dataframe\">\n",
       "  <thead>\n",
       "    <tr style=\"text-align: right;\">\n",
       "      <th></th>\n",
       "      <th>instance_id</th>\n",
       "      <th>artist_name</th>\n",
       "      <th>track_name</th>\n",
       "      <th>popularity</th>\n",
       "      <th>acousticness</th>\n",
       "      <th>danceability</th>\n",
       "      <th>duration_ms</th>\n",
       "      <th>energy</th>\n",
       "      <th>instrumentalness</th>\n",
       "      <th>liveness</th>\n",
       "      <th>loudness</th>\n",
       "      <th>speechiness</th>\n",
       "      <th>tempo</th>\n",
       "      <th>valence</th>\n",
       "    </tr>\n",
       "  </thead>\n",
       "  <tbody>\n",
       "    <tr>\n",
       "      <th>0</th>\n",
       "      <td>77382</td>\n",
       "      <td>Sheena Ringo</td>\n",
       "      <td>獣ゆく細道</td>\n",
       "      <td>48</td>\n",
       "      <td>0.01340</td>\n",
       "      <td>0.423</td>\n",
       "      <td>224053</td>\n",
       "      <td>0.799</td>\n",
       "      <td>0.000004</td>\n",
       "      <td>0.1470</td>\n",
       "      <td>-4.227</td>\n",
       "      <td>0.0447</td>\n",
       "      <td>124.626</td>\n",
       "      <td>0.5560</td>\n",
       "    </tr>\n",
       "    <tr>\n",
       "      <th>1</th>\n",
       "      <td>23554</td>\n",
       "      <td>empty_field</td>\n",
       "      <td>Fossil Roo</td>\n",
       "      <td>22</td>\n",
       "      <td>0.86200</td>\n",
       "      <td>0.590</td>\n",
       "      <td>151067</td>\n",
       "      <td>0.221</td>\n",
       "      <td>0.468000</td>\n",
       "      <td>0.0736</td>\n",
       "      <td>-16.338</td>\n",
       "      <td>0.0383</td>\n",
       "      <td>129.984</td>\n",
       "      <td>0.0331</td>\n",
       "    </tr>\n",
       "    <tr>\n",
       "      <th>2</th>\n",
       "      <td>82886</td>\n",
       "      <td>The Beatles</td>\n",
       "      <td>Dear Prudence - 2018 Mix</td>\n",
       "      <td>62</td>\n",
       "      <td>0.09040</td>\n",
       "      <td>0.395</td>\n",
       "      <td>234973</td>\n",
       "      <td>0.538</td>\n",
       "      <td>0.000453</td>\n",
       "      <td>0.0685</td>\n",
       "      <td>-10.300</td>\n",
       "      <td>0.0456</td>\n",
       "      <td>150.785</td>\n",
       "      <td>0.3690</td>\n",
       "    </tr>\n",
       "    <tr>\n",
       "      <th>3</th>\n",
       "      <td>37772</td>\n",
       "      <td>Pink Floyd</td>\n",
       "      <td>Have a Cigar</td>\n",
       "      <td>64</td>\n",
       "      <td>0.40700</td>\n",
       "      <td>0.454</td>\n",
       "      <td>307733</td>\n",
       "      <td>0.650</td>\n",
       "      <td>0.049800</td>\n",
       "      <td>0.5890</td>\n",
       "      <td>-10.191</td>\n",
       "      <td>0.0437</td>\n",
       "      <td>120.154</td>\n",
       "      <td>0.7200</td>\n",
       "    </tr>\n",
       "    <tr>\n",
       "      <th>4</th>\n",
       "      <td>80191</td>\n",
       "      <td>A-Trak</td>\n",
       "      <td>Push</td>\n",
       "      <td>43</td>\n",
       "      <td>0.00145</td>\n",
       "      <td>0.642</td>\n",
       "      <td>213512</td>\n",
       "      <td>0.877</td>\n",
       "      <td>0.002790</td>\n",
       "      <td>0.0984</td>\n",
       "      <td>-2.878</td>\n",
       "      <td>0.0450</td>\n",
       "      <td>126.058</td>\n",
       "      <td>0.4960</td>\n",
       "    </tr>\n",
       "  </tbody>\n",
       "</table>\n",
       "</div>"
      ],
      "text/plain": [
       "   instance_id   artist_name                track_name  popularity  \\\n",
       "0        77382  Sheena Ringo                     獣ゆく細道          48   \n",
       "1        23554   empty_field                Fossil Roo          22   \n",
       "2        82886   The Beatles  Dear Prudence - 2018 Mix          62   \n",
       "3        37772    Pink Floyd              Have a Cigar          64   \n",
       "4        80191        A-Trak                      Push          43   \n",
       "\n",
       "   acousticness  danceability  duration_ms  energy  instrumentalness  \\\n",
       "0       0.01340         0.423       224053   0.799          0.000004   \n",
       "1       0.86200         0.590       151067   0.221          0.468000   \n",
       "2       0.09040         0.395       234973   0.538          0.000453   \n",
       "3       0.40700         0.454       307733   0.650          0.049800   \n",
       "4       0.00145         0.642       213512   0.877          0.002790   \n",
       "\n",
       "   liveness  loudness  speechiness    tempo  valence  \n",
       "0    0.1470    -4.227       0.0447  124.626   0.5560  \n",
       "1    0.0736   -16.338       0.0383  129.984   0.0331  \n",
       "2    0.0685   -10.300       0.0456  150.785   0.3690  \n",
       "3    0.5890   -10.191       0.0437  120.154   0.7200  \n",
       "4    0.0984    -2.878       0.0450  126.058   0.4960  "
      ]
     },
     "execution_count": 432,
     "metadata": {},
     "output_type": "execute_result"
    }
   ],
   "source": [
    "x.head()"
   ]
  },
  {
   "cell_type": "code",
   "execution_count": 433,
   "id": "04e8184e",
   "metadata": {},
   "outputs": [
    {
     "data": {
      "text/plain": [
       "0    1\n",
       "1    1\n",
       "2    9\n",
       "3    9\n",
       "4    5\n",
       "Name: music_genre, dtype: int64"
      ]
     },
     "execution_count": 433,
     "metadata": {},
     "output_type": "execute_result"
    }
   ],
   "source": [
    "y.head()"
   ]
  },
  {
   "cell_type": "markdown",
   "id": "389e17f7",
   "metadata": {},
   "source": [
    "A1.3"
   ]
  },
  {
   "cell_type": "code",
   "execution_count": 434,
   "id": "9f0d6b52",
   "metadata": {},
   "outputs": [],
   "source": [
    "from sklearn.model_selection import train_test_split\n",
    "#importing modules"
   ]
  },
  {
   "cell_type": "code",
   "execution_count": 435,
   "id": "1e635bfc",
   "metadata": {},
   "outputs": [],
   "source": [
    "#splitting the data into train and test dataset for features and label\n",
    "x_train, x_test, y_train, y_test = train_test_split(x, y, test_size = 0.25, random_state = 0) "
   ]
  },
  {
   "cell_type": "markdown",
   "id": "0ad2d0aa",
   "metadata": {},
   "source": [
    "Checking the shape of the train and test set for features"
   ]
  },
  {
   "cell_type": "code",
   "execution_count": 436,
   "id": "5f4fc100",
   "metadata": {},
   "outputs": [
    {
     "data": {
      "text/plain": [
       "(19468, 14)"
      ]
     },
     "execution_count": 436,
     "metadata": {},
     "output_type": "execute_result"
    }
   ],
   "source": [
    "x_train.shape"
   ]
  },
  {
   "cell_type": "code",
   "execution_count": 437,
   "id": "57cbb947",
   "metadata": {},
   "outputs": [
    {
     "data": {
      "text/plain": [
       "(6490, 14)"
      ]
     },
     "execution_count": 437,
     "metadata": {},
     "output_type": "execute_result"
    }
   ],
   "source": [
    "x_test.shape"
   ]
  },
  {
   "cell_type": "markdown",
   "id": "cab4f4fd",
   "metadata": {},
   "source": [
    "Checking the shape of the train and test set for label"
   ]
  },
  {
   "cell_type": "code",
   "execution_count": 438,
   "id": "f70ac588",
   "metadata": {},
   "outputs": [
    {
     "data": {
      "text/plain": [
       "(19468,)"
      ]
     },
     "execution_count": 438,
     "metadata": {},
     "output_type": "execute_result"
    }
   ],
   "source": [
    "y_train.shape"
   ]
  },
  {
   "cell_type": "code",
   "execution_count": 439,
   "id": "96fb47fe",
   "metadata": {},
   "outputs": [
    {
     "data": {
      "text/plain": [
       "(6490,)"
      ]
     },
     "execution_count": 439,
     "metadata": {},
     "output_type": "execute_result"
    }
   ],
   "source": [
    "y_test.shape"
   ]
  },
  {
   "cell_type": "markdown",
   "id": "71c6b659",
   "metadata": {},
   "source": [
    "#### A2. Classification (training)\n",
    "A2.1"
   ]
  },
  {
   "cell_type": "markdown",
   "id": "dd1f79ac",
   "metadata": {},
   "source": [
    "Binary Classification is classification tasks that only have a binary outcome, where the result would be positive or negative. Example is medical test, where the result would either be the patient having the disease or the not having the disease.\n",
    "\n",
    "Multiclass classification is classification tasks that have multiple(more than two) outcomes, each entity is assigned to their own class thus avoiding overlaps.\n",
    "Example is identification of fruits, where the result would be the name of the fruit(apple, banana, orange, watermelon). "
   ]
  },
  {
   "cell_type": "markdown",
   "id": "4fd3981e",
   "metadata": {},
   "source": [
    "A2.2.a"
   ]
  },
  {
   "cell_type": "markdown",
   "id": "c665fa82",
   "metadata": {},
   "source": [
    "Scaling/Data Normalization is used to adjust the scale of the features such that they have a similar scale during the instances when the range of values of raw data varies widely.\n",
    "\n",
    "For example, if there is such a dataset where there are feature of adult's height and feature of child's height at the same time, the difference in range between the two feature is huge. If the dataset is used directly as it is, the algorithm will prioritise the larger scaled feature(adult's height), causing disproportion to happen. As such, the accuracy of the algorithm will be greatly reduced.\n",
    "\n",
    "Thus, we perform normalization such that every feature contributes proportionately to the final result. In this way, the case of larger scaled feature dominating the algorithm's learning process can be avoided. In short, scaling/normalization ensures accurate learning process for the algorithm."
   ]
  },
  {
   "cell_type": "markdown",
   "id": "fa94cf8c",
   "metadata": {},
   "source": [
    "A2.2.b"
   ]
  },
  {
   "cell_type": "code",
   "execution_count": 440,
   "id": "b8dcba6f",
   "metadata": {},
   "outputs": [],
   "source": [
    "from sklearn.preprocessing import StandardScaler\n",
    "#importing modules"
   ]
  },
  {
   "cell_type": "code",
   "execution_count": 441,
   "id": "ad4e2526",
   "metadata": {},
   "outputs": [],
   "source": [
    "#Create object of standard scaler to use its method\n",
    "sc = StandardScaler()"
   ]
  },
  {
   "cell_type": "markdown",
   "id": "8e05fa52",
   "metadata": {},
   "source": [
    "Since instance id, artist name and track name shouldn't be normalized, reassign the variable x(excluding the three unneccesary columns), then only perform normalization."
   ]
  },
  {
   "cell_type": "code",
   "execution_count": 442,
   "id": "6f4153b6",
   "metadata": {},
   "outputs": [],
   "source": [
    "x = df.iloc[:, 3:14]"
   ]
  },
  {
   "cell_type": "code",
   "execution_count": 443,
   "id": "62939080",
   "metadata": {},
   "outputs": [
    {
     "data": {
      "text/html": [
       "<div>\n",
       "<style scoped>\n",
       "    .dataframe tbody tr th:only-of-type {\n",
       "        vertical-align: middle;\n",
       "    }\n",
       "\n",
       "    .dataframe tbody tr th {\n",
       "        vertical-align: top;\n",
       "    }\n",
       "\n",
       "    .dataframe thead th {\n",
       "        text-align: right;\n",
       "    }\n",
       "</style>\n",
       "<table border=\"1\" class=\"dataframe\">\n",
       "  <thead>\n",
       "    <tr style=\"text-align: right;\">\n",
       "      <th></th>\n",
       "      <th>popularity</th>\n",
       "      <th>acousticness</th>\n",
       "      <th>danceability</th>\n",
       "      <th>duration_ms</th>\n",
       "      <th>energy</th>\n",
       "      <th>instrumentalness</th>\n",
       "      <th>liveness</th>\n",
       "      <th>loudness</th>\n",
       "      <th>speechiness</th>\n",
       "      <th>tempo</th>\n",
       "      <th>valence</th>\n",
       "    </tr>\n",
       "  </thead>\n",
       "  <tbody>\n",
       "    <tr>\n",
       "      <th>0</th>\n",
       "      <td>48</td>\n",
       "      <td>0.01340</td>\n",
       "      <td>0.423</td>\n",
       "      <td>224053</td>\n",
       "      <td>0.799</td>\n",
       "      <td>0.000004</td>\n",
       "      <td>0.1470</td>\n",
       "      <td>-4.227</td>\n",
       "      <td>0.0447</td>\n",
       "      <td>124.626</td>\n",
       "      <td>0.5560</td>\n",
       "    </tr>\n",
       "    <tr>\n",
       "      <th>1</th>\n",
       "      <td>22</td>\n",
       "      <td>0.86200</td>\n",
       "      <td>0.590</td>\n",
       "      <td>151067</td>\n",
       "      <td>0.221</td>\n",
       "      <td>0.468000</td>\n",
       "      <td>0.0736</td>\n",
       "      <td>-16.338</td>\n",
       "      <td>0.0383</td>\n",
       "      <td>129.984</td>\n",
       "      <td>0.0331</td>\n",
       "    </tr>\n",
       "    <tr>\n",
       "      <th>2</th>\n",
       "      <td>62</td>\n",
       "      <td>0.09040</td>\n",
       "      <td>0.395</td>\n",
       "      <td>234973</td>\n",
       "      <td>0.538</td>\n",
       "      <td>0.000453</td>\n",
       "      <td>0.0685</td>\n",
       "      <td>-10.300</td>\n",
       "      <td>0.0456</td>\n",
       "      <td>150.785</td>\n",
       "      <td>0.3690</td>\n",
       "    </tr>\n",
       "    <tr>\n",
       "      <th>3</th>\n",
       "      <td>64</td>\n",
       "      <td>0.40700</td>\n",
       "      <td>0.454</td>\n",
       "      <td>307733</td>\n",
       "      <td>0.650</td>\n",
       "      <td>0.049800</td>\n",
       "      <td>0.5890</td>\n",
       "      <td>-10.191</td>\n",
       "      <td>0.0437</td>\n",
       "      <td>120.154</td>\n",
       "      <td>0.7200</td>\n",
       "    </tr>\n",
       "    <tr>\n",
       "      <th>4</th>\n",
       "      <td>43</td>\n",
       "      <td>0.00145</td>\n",
       "      <td>0.642</td>\n",
       "      <td>213512</td>\n",
       "      <td>0.877</td>\n",
       "      <td>0.002790</td>\n",
       "      <td>0.0984</td>\n",
       "      <td>-2.878</td>\n",
       "      <td>0.0450</td>\n",
       "      <td>126.058</td>\n",
       "      <td>0.4960</td>\n",
       "    </tr>\n",
       "  </tbody>\n",
       "</table>\n",
       "</div>"
      ],
      "text/plain": [
       "   popularity  acousticness  danceability  duration_ms  energy  \\\n",
       "0          48       0.01340         0.423       224053   0.799   \n",
       "1          22       0.86200         0.590       151067   0.221   \n",
       "2          62       0.09040         0.395       234973   0.538   \n",
       "3          64       0.40700         0.454       307733   0.650   \n",
       "4          43       0.00145         0.642       213512   0.877   \n",
       "\n",
       "   instrumentalness  liveness  loudness  speechiness    tempo  valence  \n",
       "0          0.000004    0.1470    -4.227       0.0447  124.626   0.5560  \n",
       "1          0.468000    0.0736   -16.338       0.0383  129.984   0.0331  \n",
       "2          0.000453    0.0685   -10.300       0.0456  150.785   0.3690  \n",
       "3          0.049800    0.5890   -10.191       0.0437  120.154   0.7200  \n",
       "4          0.002790    0.0984    -2.878       0.0450  126.058   0.4960  "
      ]
     },
     "execution_count": 443,
     "metadata": {},
     "output_type": "execute_result"
    }
   ],
   "source": [
    "#performing check on the reassigned x\n",
    "x.head()"
   ]
  },
  {
   "cell_type": "code",
   "execution_count": 444,
   "id": "0d564173",
   "metadata": {},
   "outputs": [],
   "source": [
    "#reassign the train and test dataset for features and label as well\n",
    "x_train, x_test, y_train, y_test = train_test_split(x, y, test_size = 0.25, random_state = 0) "
   ]
  },
  {
   "cell_type": "code",
   "execution_count": 445,
   "id": "b9d5cf35",
   "metadata": {},
   "outputs": [
    {
     "data": {
      "text/plain": [
       "(19468, 11)"
      ]
     },
     "execution_count": 445,
     "metadata": {},
     "output_type": "execute_result"
    }
   ],
   "source": [
    "#perform checks on the reassigned training set and test set for features\n",
    "x_train.shape"
   ]
  },
  {
   "cell_type": "code",
   "execution_count": 446,
   "id": "d8e9714a",
   "metadata": {},
   "outputs": [
    {
     "data": {
      "text/plain": [
       "(6490, 11)"
      ]
     },
     "execution_count": 446,
     "metadata": {},
     "output_type": "execute_result"
    }
   ],
   "source": [
    "x_test.shape"
   ]
  },
  {
   "cell_type": "code",
   "execution_count": 447,
   "id": "3cc96a52",
   "metadata": {},
   "outputs": [],
   "source": [
    "#perform normalization\n",
    "x_train = sc.fit_transform(x_train)\n",
    "x_test = sc.transform(x_test)"
   ]
  },
  {
   "cell_type": "markdown",
   "id": "10d27605",
   "metadata": {},
   "source": [
    "Check if the data are normalized correctly"
   ]
  },
  {
   "cell_type": "code",
   "execution_count": 448,
   "id": "252cade9",
   "metadata": {},
   "outputs": [
    {
     "name": "stdout",
     "output_type": "stream",
     "text": [
      "[[-0.588578   -0.17533468  0.01574302 ... -0.28522623  0.88688251\n",
      "  -0.55851219]\n",
      " [-0.07328813 -0.44755805  0.36957345 ... -0.37480624  0.29215692\n",
      "   0.59624165]\n",
      " [-0.00887689 -0.83628132  0.81888194 ...  0.22109555 -0.00399629\n",
      "   0.25304558]\n",
      " ...\n",
      " [-0.65298923  1.84438712 -2.33189383 ... -0.4049908  -1.42572129\n",
      "  -1.45566709]\n",
      " [ 0.63523544 -0.89790332 -0.44479818 ...  0.04680402 -0.8574432\n",
      "   0.19248156]\n",
      " [ 0.31317928 -0.38608825 -0.15836402 ...  2.44112182  1.63908354\n",
      "   1.351273  ]]\n"
     ]
    }
   ],
   "source": [
    "print(x_train)"
   ]
  },
  {
   "cell_type": "code",
   "execution_count": 449,
   "id": "4c6ded42",
   "metadata": {},
   "outputs": [
    {
     "name": "stdout",
     "output_type": "stream",
     "text": [
      "[[ 0.24876804 -0.89221883 -0.72561598 ... -0.0641973   0.64905112\n",
      "  -0.22742892]\n",
      " [ 0.44200174 -0.79003261  0.88066186 ...  0.06530423  1.52243991\n",
      "   1.60967945]\n",
      " [-0.65298923  0.42180046 -1.3377988  ... -0.52572907  2.02206563\n",
      "  -0.37278255]\n",
      " ...\n",
      " [-1.3615128  -0.55586197 -0.35493648 ... -0.26575231  1.6972092\n",
      "   0.94347532]\n",
      " [-0.45975553  1.64534207 -0.41110004 ...  0.09451511  0.50890223\n",
      "  -0.44142176]\n",
      " [-0.52416676  1.13894806  0.77395109 ... -0.11580317 -0.58319337\n",
      "  -0.53832418]]\n"
     ]
    }
   ],
   "source": [
    "print(x_test)"
   ]
  },
  {
   "cell_type": "markdown",
   "id": "09506053",
   "metadata": {},
   "source": [
    "A2.3.a"
   ]
  },
  {
   "cell_type": "markdown",
   "id": "7a98a983",
   "metadata": {},
   "source": [
    "Support Vector Machine(SVM) is a machine learning algorithm.\n",
    "It uses a set of supervised learning methods to solve classification, regression and outliers detection.\n",
    "It supports binary classification and separating data points into two classes.\n",
    "For multiclass classification, it breaks down the problem into multiple binary classification problem instead.\n",
    "To solve binary classification, it uses hyperplane, a decision boundary that differentiates the two classes, where distance between each class is maximized."
   ]
  },
  {
   "cell_type": "markdown",
   "id": "9d5fe49a",
   "metadata": {},
   "source": [
    "A2.3.b"
   ]
  },
  {
   "cell_type": "markdown",
   "id": "86da0a64",
   "metadata": {},
   "source": [
    "In Support Vector Machine (SVM), a kernel is a function that computes the similarity between pairs of data points in a higher-dimensional space. \n",
    "It is also known as kernel function. Generally, it transforms the train dataset so that a non-linear decision surface is able to transform to a linear equation in higher number of dimension spaces.\n",
    "It allows SVM to efficiently solve non-linear classifications by mapping the input features into a higher-dimensional space where a linear decision boundary can be found."
   ]
  },
  {
   "cell_type": "markdown",
   "id": "40e3e6a5",
   "metadata": {},
   "source": [
    "A2.3.c"
   ]
  },
  {
   "cell_type": "code",
   "execution_count": 450,
   "id": "fecf780b",
   "metadata": {},
   "outputs": [],
   "source": [
    "from sklearn import svm\n",
    "from sklearn.metrics import accuracy_score\n",
    "#importing modules"
   ]
  },
  {
   "cell_type": "code",
   "execution_count": 451,
   "id": "0d3d6f1c",
   "metadata": {},
   "outputs": [
    {
     "data": {
      "text/html": [
       "<style>#sk-container-id-21 {color: black;}#sk-container-id-21 pre{padding: 0;}#sk-container-id-21 div.sk-toggleable {background-color: white;}#sk-container-id-21 label.sk-toggleable__label {cursor: pointer;display: block;width: 100%;margin-bottom: 0;padding: 0.3em;box-sizing: border-box;text-align: center;}#sk-container-id-21 label.sk-toggleable__label-arrow:before {content: \"▸\";float: left;margin-right: 0.25em;color: #696969;}#sk-container-id-21 label.sk-toggleable__label-arrow:hover:before {color: black;}#sk-container-id-21 div.sk-estimator:hover label.sk-toggleable__label-arrow:before {color: black;}#sk-container-id-21 div.sk-toggleable__content {max-height: 0;max-width: 0;overflow: hidden;text-align: left;background-color: #f0f8ff;}#sk-container-id-21 div.sk-toggleable__content pre {margin: 0.2em;color: black;border-radius: 0.25em;background-color: #f0f8ff;}#sk-container-id-21 input.sk-toggleable__control:checked~div.sk-toggleable__content {max-height: 200px;max-width: 100%;overflow: auto;}#sk-container-id-21 input.sk-toggleable__control:checked~label.sk-toggleable__label-arrow:before {content: \"▾\";}#sk-container-id-21 div.sk-estimator input.sk-toggleable__control:checked~label.sk-toggleable__label {background-color: #d4ebff;}#sk-container-id-21 div.sk-label input.sk-toggleable__control:checked~label.sk-toggleable__label {background-color: #d4ebff;}#sk-container-id-21 input.sk-hidden--visually {border: 0;clip: rect(1px 1px 1px 1px);clip: rect(1px, 1px, 1px, 1px);height: 1px;margin: -1px;overflow: hidden;padding: 0;position: absolute;width: 1px;}#sk-container-id-21 div.sk-estimator {font-family: monospace;background-color: #f0f8ff;border: 1px dotted black;border-radius: 0.25em;box-sizing: border-box;margin-bottom: 0.5em;}#sk-container-id-21 div.sk-estimator:hover {background-color: #d4ebff;}#sk-container-id-21 div.sk-parallel-item::after {content: \"\";width: 100%;border-bottom: 1px solid gray;flex-grow: 1;}#sk-container-id-21 div.sk-label:hover label.sk-toggleable__label {background-color: #d4ebff;}#sk-container-id-21 div.sk-serial::before {content: \"\";position: absolute;border-left: 1px solid gray;box-sizing: border-box;top: 0;bottom: 0;left: 50%;z-index: 0;}#sk-container-id-21 div.sk-serial {display: flex;flex-direction: column;align-items: center;background-color: white;padding-right: 0.2em;padding-left: 0.2em;position: relative;}#sk-container-id-21 div.sk-item {position: relative;z-index: 1;}#sk-container-id-21 div.sk-parallel {display: flex;align-items: stretch;justify-content: center;background-color: white;position: relative;}#sk-container-id-21 div.sk-item::before, #sk-container-id-21 div.sk-parallel-item::before {content: \"\";position: absolute;border-left: 1px solid gray;box-sizing: border-box;top: 0;bottom: 0;left: 50%;z-index: -1;}#sk-container-id-21 div.sk-parallel-item {display: flex;flex-direction: column;z-index: 1;position: relative;background-color: white;}#sk-container-id-21 div.sk-parallel-item:first-child::after {align-self: flex-end;width: 50%;}#sk-container-id-21 div.sk-parallel-item:last-child::after {align-self: flex-start;width: 50%;}#sk-container-id-21 div.sk-parallel-item:only-child::after {width: 0;}#sk-container-id-21 div.sk-dashed-wrapped {border: 1px dashed gray;margin: 0 0.4em 0.5em 0.4em;box-sizing: border-box;padding-bottom: 0.4em;background-color: white;}#sk-container-id-21 div.sk-label label {font-family: monospace;font-weight: bold;display: inline-block;line-height: 1.2em;}#sk-container-id-21 div.sk-label-container {text-align: center;}#sk-container-id-21 div.sk-container {/* jupyter's `normalize.less` sets `[hidden] { display: none; }` but bootstrap.min.css set `[hidden] { display: none !important; }` so we also need the `!important` here to be able to override the default hidden behavior on the sphinx rendered scikit-learn.org. See: https://github.com/scikit-learn/scikit-learn/issues/21755 */display: inline-block !important;position: relative;}#sk-container-id-21 div.sk-text-repr-fallback {display: none;}</style><div id=\"sk-container-id-21\" class=\"sk-top-container\"><div class=\"sk-text-repr-fallback\"><pre>SVC()</pre><b>In a Jupyter environment, please rerun this cell to show the HTML representation or trust the notebook. <br />On GitHub, the HTML representation is unable to render, please try loading this page with nbviewer.org.</b></div><div class=\"sk-container\" hidden><div class=\"sk-item\"><div class=\"sk-estimator sk-toggleable\"><input class=\"sk-toggleable__control sk-hidden--visually\" id=\"sk-estimator-id-21\" type=\"checkbox\" checked><label for=\"sk-estimator-id-21\" class=\"sk-toggleable__label sk-toggleable__label-arrow\">SVC</label><div class=\"sk-toggleable__content\"><pre>SVC()</pre></div></div></div></div></div>"
      ],
      "text/plain": [
       "SVC()"
      ]
     },
     "execution_count": 451,
     "metadata": {},
     "output_type": "execute_result"
    }
   ],
   "source": [
    "#create a svm model and fit x train and y train into it\n",
    "svm_model = svm.SVC(C=1.0)\n",
    "svm_model.fit(x_train, y_train)"
   ]
  },
  {
   "cell_type": "markdown",
   "id": "a5640ebf",
   "metadata": {},
   "source": [
    "A2.4\n",
    "(Using Random Forest Algorithm)"
   ]
  },
  {
   "cell_type": "code",
   "execution_count": 452,
   "id": "0c4c261c",
   "metadata": {},
   "outputs": [],
   "source": [
    "#create a random forest model and fit x train and y train into it\n",
    "from sklearn.ensemble import RandomForestClassifier \n",
    "classifier = RandomForestClassifier(n_estimators = 20, criterion = 'entropy', random_state = 0)"
   ]
  },
  {
   "cell_type": "code",
   "execution_count": 453,
   "id": "5f17f0a6",
   "metadata": {
    "scrolled": true
   },
   "outputs": [
    {
     "data": {
      "text/html": [
       "<style>#sk-container-id-22 {color: black;}#sk-container-id-22 pre{padding: 0;}#sk-container-id-22 div.sk-toggleable {background-color: white;}#sk-container-id-22 label.sk-toggleable__label {cursor: pointer;display: block;width: 100%;margin-bottom: 0;padding: 0.3em;box-sizing: border-box;text-align: center;}#sk-container-id-22 label.sk-toggleable__label-arrow:before {content: \"▸\";float: left;margin-right: 0.25em;color: #696969;}#sk-container-id-22 label.sk-toggleable__label-arrow:hover:before {color: black;}#sk-container-id-22 div.sk-estimator:hover label.sk-toggleable__label-arrow:before {color: black;}#sk-container-id-22 div.sk-toggleable__content {max-height: 0;max-width: 0;overflow: hidden;text-align: left;background-color: #f0f8ff;}#sk-container-id-22 div.sk-toggleable__content pre {margin: 0.2em;color: black;border-radius: 0.25em;background-color: #f0f8ff;}#sk-container-id-22 input.sk-toggleable__control:checked~div.sk-toggleable__content {max-height: 200px;max-width: 100%;overflow: auto;}#sk-container-id-22 input.sk-toggleable__control:checked~label.sk-toggleable__label-arrow:before {content: \"▾\";}#sk-container-id-22 div.sk-estimator input.sk-toggleable__control:checked~label.sk-toggleable__label {background-color: #d4ebff;}#sk-container-id-22 div.sk-label input.sk-toggleable__control:checked~label.sk-toggleable__label {background-color: #d4ebff;}#sk-container-id-22 input.sk-hidden--visually {border: 0;clip: rect(1px 1px 1px 1px);clip: rect(1px, 1px, 1px, 1px);height: 1px;margin: -1px;overflow: hidden;padding: 0;position: absolute;width: 1px;}#sk-container-id-22 div.sk-estimator {font-family: monospace;background-color: #f0f8ff;border: 1px dotted black;border-radius: 0.25em;box-sizing: border-box;margin-bottom: 0.5em;}#sk-container-id-22 div.sk-estimator:hover {background-color: #d4ebff;}#sk-container-id-22 div.sk-parallel-item::after {content: \"\";width: 100%;border-bottom: 1px solid gray;flex-grow: 1;}#sk-container-id-22 div.sk-label:hover label.sk-toggleable__label {background-color: #d4ebff;}#sk-container-id-22 div.sk-serial::before {content: \"\";position: absolute;border-left: 1px solid gray;box-sizing: border-box;top: 0;bottom: 0;left: 50%;z-index: 0;}#sk-container-id-22 div.sk-serial {display: flex;flex-direction: column;align-items: center;background-color: white;padding-right: 0.2em;padding-left: 0.2em;position: relative;}#sk-container-id-22 div.sk-item {position: relative;z-index: 1;}#sk-container-id-22 div.sk-parallel {display: flex;align-items: stretch;justify-content: center;background-color: white;position: relative;}#sk-container-id-22 div.sk-item::before, #sk-container-id-22 div.sk-parallel-item::before {content: \"\";position: absolute;border-left: 1px solid gray;box-sizing: border-box;top: 0;bottom: 0;left: 50%;z-index: -1;}#sk-container-id-22 div.sk-parallel-item {display: flex;flex-direction: column;z-index: 1;position: relative;background-color: white;}#sk-container-id-22 div.sk-parallel-item:first-child::after {align-self: flex-end;width: 50%;}#sk-container-id-22 div.sk-parallel-item:last-child::after {align-self: flex-start;width: 50%;}#sk-container-id-22 div.sk-parallel-item:only-child::after {width: 0;}#sk-container-id-22 div.sk-dashed-wrapped {border: 1px dashed gray;margin: 0 0.4em 0.5em 0.4em;box-sizing: border-box;padding-bottom: 0.4em;background-color: white;}#sk-container-id-22 div.sk-label label {font-family: monospace;font-weight: bold;display: inline-block;line-height: 1.2em;}#sk-container-id-22 div.sk-label-container {text-align: center;}#sk-container-id-22 div.sk-container {/* jupyter's `normalize.less` sets `[hidden] { display: none; }` but bootstrap.min.css set `[hidden] { display: none !important; }` so we also need the `!important` here to be able to override the default hidden behavior on the sphinx rendered scikit-learn.org. See: https://github.com/scikit-learn/scikit-learn/issues/21755 */display: inline-block !important;position: relative;}#sk-container-id-22 div.sk-text-repr-fallback {display: none;}</style><div id=\"sk-container-id-22\" class=\"sk-top-container\"><div class=\"sk-text-repr-fallback\"><pre>RandomForestClassifier(criterion=&#x27;entropy&#x27;, n_estimators=20, random_state=0)</pre><b>In a Jupyter environment, please rerun this cell to show the HTML representation or trust the notebook. <br />On GitHub, the HTML representation is unable to render, please try loading this page with nbviewer.org.</b></div><div class=\"sk-container\" hidden><div class=\"sk-item\"><div class=\"sk-estimator sk-toggleable\"><input class=\"sk-toggleable__control sk-hidden--visually\" id=\"sk-estimator-id-22\" type=\"checkbox\" checked><label for=\"sk-estimator-id-22\" class=\"sk-toggleable__label sk-toggleable__label-arrow\">RandomForestClassifier</label><div class=\"sk-toggleable__content\"><pre>RandomForestClassifier(criterion=&#x27;entropy&#x27;, n_estimators=20, random_state=0)</pre></div></div></div></div></div>"
      ],
      "text/plain": [
       "RandomForestClassifier(criterion='entropy', n_estimators=20, random_state=0)"
      ]
     },
     "execution_count": 453,
     "metadata": {},
     "output_type": "execute_result"
    }
   ],
   "source": [
    "classifier.fit(x_train, y_train)"
   ]
  },
  {
   "cell_type": "markdown",
   "id": "2870d83f",
   "metadata": {},
   "source": [
    "#### A3. Classification (prediction)\n",
    "A3.1"
   ]
  },
  {
   "cell_type": "code",
   "execution_count": 454,
   "id": "a86e159d",
   "metadata": {},
   "outputs": [],
   "source": [
    "#prediction of the svm model\n",
    "y_pred = svm_model.predict(x_test)"
   ]
  },
  {
   "cell_type": "code",
   "execution_count": 455,
   "id": "c45eec04",
   "metadata": {},
   "outputs": [],
   "source": [
    "#prediction of the random forest model\n",
    "y_pred_rf = classifier.predict(x_test)"
   ]
  },
  {
   "cell_type": "code",
   "execution_count": 456,
   "id": "105d203c",
   "metadata": {},
   "outputs": [],
   "source": [
    "#accuracy of svm model\n",
    "accuracy = accuracy_score(y_test, y_pred)"
   ]
  },
  {
   "cell_type": "code",
   "execution_count": 457,
   "id": "f4cc76a4",
   "metadata": {},
   "outputs": [],
   "source": [
    "#accuracy of random forest model\n",
    "accuracy_rf = accuracy_score(y_test, y_pred_rf)"
   ]
  },
  {
   "cell_type": "code",
   "execution_count": 458,
   "id": "441d441a",
   "metadata": {},
   "outputs": [
    {
     "name": "stdout",
     "output_type": "stream",
     "text": [
      "Accuracy of SVM model: 56.45608628659476%\n",
      "Accuracy of Random Forest model: 52.58859784283513%\n"
     ]
    }
   ],
   "source": [
    "#displaying the accuracy of both models\n",
    "print(\"Accuracy of SVM model: \" + str(float(accuracy*100)) + \"%\")\n",
    "print(\"Accuracy of Random Forest model: \" + str(float(accuracy_rf*100)) + \"%\")"
   ]
  },
  {
   "cell_type": "markdown",
   "id": "e5a9b8d4",
   "metadata": {},
   "source": [
    "A3.2"
   ]
  },
  {
   "cell_type": "code",
   "execution_count": 459,
   "id": "2daa48cd",
   "metadata": {},
   "outputs": [],
   "source": [
    "from sklearn.metrics import confusion_matrix \n",
    "#importing modules"
   ]
  },
  {
   "cell_type": "code",
   "execution_count": 460,
   "id": "5108bccb",
   "metadata": {
    "scrolled": true
   },
   "outputs": [
    {
     "name": "stdout",
     "output_type": "stream",
     "text": [
      "[[225   2   9   1 122  39  75  36  18 131]\n",
      " [ 18 468  46  48  16  30   0   9   0   4]\n",
      " [ 30  80 342  10  83  37   1  67   0  27]\n",
      " [ 18  22  19 565   3   9   0  27   0   6]\n",
      " [ 40   8  35   1 369  14  17  45   7 102]\n",
      " [ 44  28  30   8  39 367  21  67   4  23]\n",
      " [ 29   0   1   0   9   4 362   3 186  45]\n",
      " [ 24  13  85  51  44  95  24 313   4  22]\n",
      " [ 28   0   0   0   9   1 311   6 192  85]\n",
      " [ 65   0   2   2  30   4  24  12  32 461]]\n"
     ]
    }
   ],
   "source": [
    "#confusion matrix of the svm model\n",
    "cm_svm = confusion_matrix(y_test, y_pred)\n",
    "print(cm_svm)"
   ]
  },
  {
   "cell_type": "code",
   "execution_count": 461,
   "id": "f875c2e9",
   "metadata": {},
   "outputs": [
    {
     "name": "stdout",
     "output_type": "stream",
     "text": [
      "[[219   7  24   0  99  42  52  38  30 147]\n",
      " [ 14 488  41  44  14  24   0   8   1   5]\n",
      " [ 46  87 340  10  64  37   1  67   2  23]\n",
      " [ 17  32  14 557   4  12   0  24   0   9]\n",
      " [ 50  11  41   1 361   8  10  39  12 105]\n",
      " [ 43  32  66   7  26 335  11  79   8  24]\n",
      " [ 28   0   0   0   5   6 273   8 284  35]\n",
      " [ 37  11 112  51  35  89  10 284   9  37]\n",
      " [ 31   1   1   0  11   5 328   5 190  60]\n",
      " [101   2   8   3  59   8  26  14  45 366]]\n"
     ]
    }
   ],
   "source": [
    "#confusion matrix of the random forest model\n",
    "cm = confusion_matrix(y_test, y_pred_rf) \n",
    "print(cm)"
   ]
  },
  {
   "cell_type": "markdown",
   "id": "e41e3233",
   "metadata": {},
   "source": [
    "A3.3"
   ]
  },
  {
   "cell_type": "markdown",
   "id": "58c3ba63",
   "metadata": {},
   "source": [
    "I will be using accuracy and Mean Squared Error(MSE) as the comparison standard.\n",
    "MSE measures the average of the squares of the errors, which means the lower the MSE, the better the model performs.\n",
    "Accuracy measures how often the outcome is correctly predicted, the higher the accuracy, the better the model performs."
   ]
  },
  {
   "cell_type": "code",
   "execution_count": 462,
   "id": "3087edad",
   "metadata": {},
   "outputs": [
    {
     "name": "stdout",
     "output_type": "stream",
     "text": [
      "MSE of SVM model: 7.649306625577812\n",
      "MSE of Random Forest model: 8.841140215716488\n"
     ]
    }
   ],
   "source": [
    "from sklearn.metrics import mean_squared_error\n",
    "mse_svm = mean_squared_error(y_test, y_pred)\n",
    "mse_rf = mean_squared_error(y_test, y_pred_rf)\n",
    "print(\"MSE of SVM model: \" + str(mse_svm))\n",
    "print(\"MSE of Random Forest model: \" + str(mse_rf))"
   ]
  },
  {
   "cell_type": "code",
   "execution_count": 463,
   "id": "633d60a7",
   "metadata": {},
   "outputs": [
    {
     "name": "stdout",
     "output_type": "stream",
     "text": [
      "Accuracy of SVM model: 56.45608628659476%\n",
      "Accuracy of Random Forest model: 52.58859784283513%\n"
     ]
    }
   ],
   "source": [
    "print(\"Accuracy of SVM model: \" + str(accuracy*100) + \"%\")\n",
    "print(\"Accuracy of Random Forest model: \" + str(accuracy_rf*100) + \"%\")"
   ]
  },
  {
   "cell_type": "markdown",
   "id": "780e3860",
   "metadata": {},
   "source": [
    "As shown above, the SVM model has a lower SVM and a higher accuracy than the Random Forest Model.\n",
    "Therefore, the SVM model performed better."
   ]
  },
  {
   "cell_type": "markdown",
   "id": "300ea3d6",
   "metadata": {},
   "source": [
    "#### A4. Independent evaluation\n",
    "A4.1"
   ]
  },
  {
   "cell_type": "code",
   "execution_count": 464,
   "id": "8910e464",
   "metadata": {},
   "outputs": [
    {
     "data": {
      "text/plain": [
       "(6490, 14)"
      ]
     },
     "execution_count": 464,
     "metadata": {},
     "output_type": "execute_result"
    }
   ],
   "source": [
    "#read the file and perform checking\n",
    "submission = pd.read_csv(\"FIT1043-MusicGenre-Submission.csv\")\n",
    "submission.shape"
   ]
  },
  {
   "cell_type": "markdown",
   "id": "ec9c1be0",
   "metadata": {},
   "source": [
    "Only common columns of submission and X should be kept."
   ]
  },
  {
   "cell_type": "code",
   "execution_count": 465,
   "id": "f68ab35e",
   "metadata": {},
   "outputs": [],
   "source": [
    "#cleaned-up data\n",
    "f_submission = submission[x.columns.intersection(submission.columns)]"
   ]
  },
  {
   "cell_type": "code",
   "execution_count": 466,
   "id": "f24acb3e",
   "metadata": {},
   "outputs": [
    {
     "data": {
      "text/html": [
       "<div>\n",
       "<style scoped>\n",
       "    .dataframe tbody tr th:only-of-type {\n",
       "        vertical-align: middle;\n",
       "    }\n",
       "\n",
       "    .dataframe tbody tr th {\n",
       "        vertical-align: top;\n",
       "    }\n",
       "\n",
       "    .dataframe thead th {\n",
       "        text-align: right;\n",
       "    }\n",
       "</style>\n",
       "<table border=\"1\" class=\"dataframe\">\n",
       "  <thead>\n",
       "    <tr style=\"text-align: right;\">\n",
       "      <th></th>\n",
       "      <th>popularity</th>\n",
       "      <th>acousticness</th>\n",
       "      <th>danceability</th>\n",
       "      <th>duration_ms</th>\n",
       "      <th>energy</th>\n",
       "      <th>instrumentalness</th>\n",
       "      <th>liveness</th>\n",
       "      <th>loudness</th>\n",
       "      <th>speechiness</th>\n",
       "      <th>tempo</th>\n",
       "      <th>valence</th>\n",
       "    </tr>\n",
       "  </thead>\n",
       "  <tbody>\n",
       "    <tr>\n",
       "      <th>0</th>\n",
       "      <td>27</td>\n",
       "      <td>0.06240</td>\n",
       "      <td>0.436</td>\n",
       "      <td>218227</td>\n",
       "      <td>0.663</td>\n",
       "      <td>0.001510</td>\n",
       "      <td>0.0759</td>\n",
       "      <td>-5.897</td>\n",
       "      <td>0.0510</td>\n",
       "      <td>117.956</td>\n",
       "      <td>0.360</td>\n",
       "    </tr>\n",
       "    <tr>\n",
       "      <th>1</th>\n",
       "      <td>62</td>\n",
       "      <td>0.03470</td>\n",
       "      <td>0.582</td>\n",
       "      <td>195733</td>\n",
       "      <td>0.778</td>\n",
       "      <td>0.000000</td>\n",
       "      <td>0.2100</td>\n",
       "      <td>-3.776</td>\n",
       "      <td>0.1780</td>\n",
       "      <td>82.193</td>\n",
       "      <td>0.205</td>\n",
       "    </tr>\n",
       "    <tr>\n",
       "      <th>2</th>\n",
       "      <td>35</td>\n",
       "      <td>0.69200</td>\n",
       "      <td>0.269</td>\n",
       "      <td>324480</td>\n",
       "      <td>0.331</td>\n",
       "      <td>0.000000</td>\n",
       "      <td>0.0851</td>\n",
       "      <td>-9.253</td>\n",
       "      <td>0.0338</td>\n",
       "      <td>139.338</td>\n",
       "      <td>0.250</td>\n",
       "    </tr>\n",
       "    <tr>\n",
       "      <th>3</th>\n",
       "      <td>47</td>\n",
       "      <td>0.68200</td>\n",
       "      <td>0.428</td>\n",
       "      <td>256267</td>\n",
       "      <td>0.454</td>\n",
       "      <td>0.000005</td>\n",
       "      <td>0.2160</td>\n",
       "      <td>-9.952</td>\n",
       "      <td>0.4940</td>\n",
       "      <td>173.272</td>\n",
       "      <td>0.573</td>\n",
       "    </tr>\n",
       "    <tr>\n",
       "      <th>4</th>\n",
       "      <td>48</td>\n",
       "      <td>0.00409</td>\n",
       "      <td>0.404</td>\n",
       "      <td>271173</td>\n",
       "      <td>0.599</td>\n",
       "      <td>0.000252</td>\n",
       "      <td>0.1130</td>\n",
       "      <td>-5.565</td>\n",
       "      <td>0.0289</td>\n",
       "      <td>136.045</td>\n",
       "      <td>0.195</td>\n",
       "    </tr>\n",
       "  </tbody>\n",
       "</table>\n",
       "</div>"
      ],
      "text/plain": [
       "   popularity  acousticness  danceability  duration_ms  energy  \\\n",
       "0          27       0.06240         0.436       218227   0.663   \n",
       "1          62       0.03470         0.582       195733   0.778   \n",
       "2          35       0.69200         0.269       324480   0.331   \n",
       "3          47       0.68200         0.428       256267   0.454   \n",
       "4          48       0.00409         0.404       271173   0.599   \n",
       "\n",
       "   instrumentalness  liveness  loudness  speechiness    tempo  valence  \n",
       "0          0.001510    0.0759    -5.897       0.0510  117.956    0.360  \n",
       "1          0.000000    0.2100    -3.776       0.1780   82.193    0.205  \n",
       "2          0.000000    0.0851    -9.253       0.0338  139.338    0.250  \n",
       "3          0.000005    0.2160    -9.952       0.4940  173.272    0.573  \n",
       "4          0.000252    0.1130    -5.565       0.0289  136.045    0.195  "
      ]
     },
     "execution_count": 466,
     "metadata": {},
     "output_type": "execute_result"
    }
   ],
   "source": [
    "f_submission.head()"
   ]
  },
  {
   "cell_type": "code",
   "execution_count": 467,
   "id": "4d9ecc4a",
   "metadata": {},
   "outputs": [
    {
     "name": "stdout",
     "output_type": "stream",
     "text": [
      "[[-1.12312535 -0.70039214 -0.69804162 ... -0.42166141 -0.05711513\n",
      "  -0.38585539]\n",
      " [ 1.12099138 -0.78262092  0.12803911 ...  0.86104885 -1.22552078\n",
      "  -1.01594565]\n",
      " [-0.61018438  1.16860566 -1.64294218 ... -0.5953828   0.64145182\n",
      "  -0.83301622]\n",
      " ...\n",
      " [ 0.67216804 -0.46409572  0.61463461 ... -0.70648369 -0.51457161\n",
      "   0.49627098]\n",
      " [ 0.28746231 -0.81200954  0.08277442 ... -0.35904091  0.82868814\n",
      "  -0.83301622]\n",
      " [ 1.05687376 -0.86977749 -1.36003782 ... -0.53882235  2.06893688\n",
      "   0.54505216]]\n"
     ]
    }
   ],
   "source": [
    "#perform normalization and check if it is performed correctly\n",
    "f_submission = sc.fit_transform(f_submission)\n",
    "print(f_submission)"
   ]
  },
  {
   "cell_type": "code",
   "execution_count": 468,
   "id": "f7d3e94d",
   "metadata": {},
   "outputs": [],
   "source": [
    "#prediction on the cleaned-up data\n",
    "f_pred = svm_model.predict(f_submission)"
   ]
  },
  {
   "cell_type": "markdown",
   "id": "b302c565",
   "metadata": {},
   "source": [
    "A4.2"
   ]
  },
  {
   "cell_type": "code",
   "execution_count": 469,
   "id": "1241b7e9",
   "metadata": {},
   "outputs": [
    {
     "data": {
      "text/html": [
       "<div>\n",
       "<style scoped>\n",
       "    .dataframe tbody tr th:only-of-type {\n",
       "        vertical-align: middle;\n",
       "    }\n",
       "\n",
       "    .dataframe tbody tr th {\n",
       "        vertical-align: top;\n",
       "    }\n",
       "\n",
       "    .dataframe thead th {\n",
       "        text-align: right;\n",
       "    }\n",
       "</style>\n",
       "<table border=\"1\" class=\"dataframe\">\n",
       "  <thead>\n",
       "    <tr style=\"text-align: right;\">\n",
       "      <th></th>\n",
       "      <th>instance_id</th>\n",
       "      <th>music_genre</th>\n",
       "    </tr>\n",
       "  </thead>\n",
       "  <tbody>\n",
       "    <tr>\n",
       "      <th>0</th>\n",
       "      <td>49290</td>\n",
       "      <td>2</td>\n",
       "    </tr>\n",
       "    <tr>\n",
       "      <th>1</th>\n",
       "      <td>81619</td>\n",
       "      <td>8</td>\n",
       "    </tr>\n",
       "    <tr>\n",
       "      <th>2</th>\n",
       "      <td>31979</td>\n",
       "      <td>2</td>\n",
       "    </tr>\n",
       "    <tr>\n",
       "      <th>3</th>\n",
       "      <td>35985</td>\n",
       "      <td>6</td>\n",
       "    </tr>\n",
       "    <tr>\n",
       "      <th>4</th>\n",
       "      <td>25426</td>\n",
       "      <td>0</td>\n",
       "    </tr>\n",
       "    <tr>\n",
       "      <th>...</th>\n",
       "      <td>...</td>\n",
       "      <td>...</td>\n",
       "    </tr>\n",
       "    <tr>\n",
       "      <th>6485</th>\n",
       "      <td>23196</td>\n",
       "      <td>8</td>\n",
       "    </tr>\n",
       "    <tr>\n",
       "      <th>6486</th>\n",
       "      <td>21415</td>\n",
       "      <td>6</td>\n",
       "    </tr>\n",
       "    <tr>\n",
       "      <th>6487</th>\n",
       "      <td>46657</td>\n",
       "      <td>9</td>\n",
       "    </tr>\n",
       "    <tr>\n",
       "      <th>6488</th>\n",
       "      <td>83211</td>\n",
       "      <td>0</td>\n",
       "    </tr>\n",
       "    <tr>\n",
       "      <th>6489</th>\n",
       "      <td>75522</td>\n",
       "      <td>9</td>\n",
       "    </tr>\n",
       "  </tbody>\n",
       "</table>\n",
       "<p>6490 rows × 2 columns</p>\n",
       "</div>"
      ],
      "text/plain": [
       "      instance_id  music_genre\n",
       "0           49290            2\n",
       "1           81619            8\n",
       "2           31979            2\n",
       "3           35985            6\n",
       "4           25426            0\n",
       "...           ...          ...\n",
       "6485        23196            8\n",
       "6486        21415            6\n",
       "6487        46657            9\n",
       "6488        83211            0\n",
       "6489        75522            9\n",
       "\n",
       "[6490 rows x 2 columns]"
      ]
     },
     "execution_count": 469,
     "metadata": {},
     "output_type": "execute_result"
    }
   ],
   "source": [
    "#create a new dataframe combining the instance id and predicted music genre\n",
    "df_submission = pd.DataFrame({'instance_id': submission['instance_id'], 'music_genre': f_pred})\n",
    "df_submission"
   ]
  },
  {
   "cell_type": "code",
   "execution_count": 470,
   "id": "2c24dc50",
   "metadata": {},
   "outputs": [],
   "source": [
    "#save the results as a .csv file\n",
    "df_submission.to_csv('34280332_ChengMunChee-v1.csv', sep=',', index=False, encoding='utf-8')"
   ]
  },
  {
   "cell_type": "markdown",
   "id": "0a76851d",
   "metadata": {},
   "source": [
    "### Part B : Selection of Dataset and perform Clustering\n",
    "#### B1. Selection of a Dataset with missing data, Clustering\n",
    "B1.1"
   ]
  },
  {
   "cell_type": "markdown",
   "id": "2a3b7383",
   "metadata": {},
   "source": [
    "The dataset chosen (travel-times.csv) is from the link: https://openmv.net/info/travel-times"
   ]
  },
  {
   "cell_type": "code",
   "execution_count": 471,
   "id": "a80296ee",
   "metadata": {},
   "outputs": [
    {
     "data": {
      "text/plain": [
       "Date                0\n",
       "StartTime           0\n",
       "DayOfWeek           0\n",
       "GoingTo             0\n",
       "Distance            0\n",
       "MaxSpeed            0\n",
       "AvgSpeed            0\n",
       "AvgMovingSpeed      0\n",
       "FuelEconomy        17\n",
       "TotalTime           0\n",
       "MovingTime          0\n",
       "Take407All          0\n",
       "Comments          181\n",
       "dtype: int64"
      ]
     },
     "execution_count": 471,
     "metadata": {},
     "output_type": "execute_result"
    }
   ],
   "source": [
    "data = pd.read_csv(\"travel-times.csv\")\n",
    "missing_data = data.isnull().sum()\n",
    "#Making sure there is missing data in the dataframe\n",
    "missing_data"
   ]
  },
  {
   "cell_type": "markdown",
   "id": "4603ee87",
   "metadata": {},
   "source": [
    "Upon checking the file, the column Comments is just remark on some of the data, which means it can be removed without causing impact to other data.\n",
    "Apart from that, the other column containing missing data is FuelEconomy. Since the file still have plenty of other columns that can be used for calculation and comparison, it can be safely removed as well."
   ]
  },
  {
   "cell_type": "code",
   "execution_count": 472,
   "id": "cc86550d",
   "metadata": {},
   "outputs": [
    {
     "data": {
      "text/html": [
       "<div>\n",
       "<style scoped>\n",
       "    .dataframe tbody tr th:only-of-type {\n",
       "        vertical-align: middle;\n",
       "    }\n",
       "\n",
       "    .dataframe tbody tr th {\n",
       "        vertical-align: top;\n",
       "    }\n",
       "\n",
       "    .dataframe thead th {\n",
       "        text-align: right;\n",
       "    }\n",
       "</style>\n",
       "<table border=\"1\" class=\"dataframe\">\n",
       "  <thead>\n",
       "    <tr style=\"text-align: right;\">\n",
       "      <th></th>\n",
       "      <th>Date</th>\n",
       "      <th>StartTime</th>\n",
       "      <th>DayOfWeek</th>\n",
       "      <th>GoingTo</th>\n",
       "      <th>Distance</th>\n",
       "      <th>MaxSpeed</th>\n",
       "      <th>AvgSpeed</th>\n",
       "      <th>AvgMovingSpeed</th>\n",
       "      <th>TotalTime</th>\n",
       "      <th>MovingTime</th>\n",
       "      <th>Take407All</th>\n",
       "    </tr>\n",
       "  </thead>\n",
       "  <tbody>\n",
       "    <tr>\n",
       "      <th>0</th>\n",
       "      <td>1/6/2012</td>\n",
       "      <td>16:37</td>\n",
       "      <td>Friday</td>\n",
       "      <td>Home</td>\n",
       "      <td>51.29</td>\n",
       "      <td>127.4</td>\n",
       "      <td>78.3</td>\n",
       "      <td>84.8</td>\n",
       "      <td>39.3</td>\n",
       "      <td>36.3</td>\n",
       "      <td>No</td>\n",
       "    </tr>\n",
       "    <tr>\n",
       "      <th>1</th>\n",
       "      <td>1/6/2012</td>\n",
       "      <td>08:20</td>\n",
       "      <td>Friday</td>\n",
       "      <td>GSK</td>\n",
       "      <td>51.63</td>\n",
       "      <td>130.3</td>\n",
       "      <td>81.8</td>\n",
       "      <td>88.9</td>\n",
       "      <td>37.9</td>\n",
       "      <td>34.9</td>\n",
       "      <td>No</td>\n",
       "    </tr>\n",
       "    <tr>\n",
       "      <th>2</th>\n",
       "      <td>1/4/2012</td>\n",
       "      <td>16:17</td>\n",
       "      <td>Wednesday</td>\n",
       "      <td>Home</td>\n",
       "      <td>51.27</td>\n",
       "      <td>127.4</td>\n",
       "      <td>82.0</td>\n",
       "      <td>85.8</td>\n",
       "      <td>37.5</td>\n",
       "      <td>35.9</td>\n",
       "      <td>No</td>\n",
       "    </tr>\n",
       "    <tr>\n",
       "      <th>3</th>\n",
       "      <td>1/4/2012</td>\n",
       "      <td>07:53</td>\n",
       "      <td>Wednesday</td>\n",
       "      <td>GSK</td>\n",
       "      <td>49.17</td>\n",
       "      <td>132.3</td>\n",
       "      <td>74.2</td>\n",
       "      <td>82.9</td>\n",
       "      <td>39.8</td>\n",
       "      <td>35.6</td>\n",
       "      <td>No</td>\n",
       "    </tr>\n",
       "    <tr>\n",
       "      <th>4</th>\n",
       "      <td>1/3/2012</td>\n",
       "      <td>18:57</td>\n",
       "      <td>Tuesday</td>\n",
       "      <td>Home</td>\n",
       "      <td>51.15</td>\n",
       "      <td>136.2</td>\n",
       "      <td>83.4</td>\n",
       "      <td>88.1</td>\n",
       "      <td>36.8</td>\n",
       "      <td>34.8</td>\n",
       "      <td>No</td>\n",
       "    </tr>\n",
       "    <tr>\n",
       "      <th>...</th>\n",
       "      <td>...</td>\n",
       "      <td>...</td>\n",
       "      <td>...</td>\n",
       "      <td>...</td>\n",
       "      <td>...</td>\n",
       "      <td>...</td>\n",
       "      <td>...</td>\n",
       "      <td>...</td>\n",
       "      <td>...</td>\n",
       "      <td>...</td>\n",
       "      <td>...</td>\n",
       "    </tr>\n",
       "    <tr>\n",
       "      <th>200</th>\n",
       "      <td>7/18/2011</td>\n",
       "      <td>08:09</td>\n",
       "      <td>Monday</td>\n",
       "      <td>GSK</td>\n",
       "      <td>54.52</td>\n",
       "      <td>125.6</td>\n",
       "      <td>49.9</td>\n",
       "      <td>82.4</td>\n",
       "      <td>65.5</td>\n",
       "      <td>39.7</td>\n",
       "      <td>No</td>\n",
       "    </tr>\n",
       "    <tr>\n",
       "      <th>201</th>\n",
       "      <td>7/14/2011</td>\n",
       "      <td>08:03</td>\n",
       "      <td>Thursday</td>\n",
       "      <td>GSK</td>\n",
       "      <td>50.90</td>\n",
       "      <td>123.7</td>\n",
       "      <td>76.2</td>\n",
       "      <td>95.1</td>\n",
       "      <td>40.1</td>\n",
       "      <td>32.1</td>\n",
       "      <td>Yes</td>\n",
       "    </tr>\n",
       "    <tr>\n",
       "      <th>202</th>\n",
       "      <td>7/13/2011</td>\n",
       "      <td>17:08</td>\n",
       "      <td>Wednesday</td>\n",
       "      <td>Home</td>\n",
       "      <td>51.96</td>\n",
       "      <td>132.6</td>\n",
       "      <td>57.5</td>\n",
       "      <td>76.7</td>\n",
       "      <td>54.2</td>\n",
       "      <td>40.6</td>\n",
       "      <td>Yes</td>\n",
       "    </tr>\n",
       "    <tr>\n",
       "      <th>203</th>\n",
       "      <td>7/12/2011</td>\n",
       "      <td>17:51</td>\n",
       "      <td>Tuesday</td>\n",
       "      <td>Home</td>\n",
       "      <td>53.28</td>\n",
       "      <td>125.8</td>\n",
       "      <td>61.6</td>\n",
       "      <td>87.6</td>\n",
       "      <td>51.9</td>\n",
       "      <td>36.5</td>\n",
       "      <td>Yes</td>\n",
       "    </tr>\n",
       "    <tr>\n",
       "      <th>204</th>\n",
       "      <td>7/11/2011</td>\n",
       "      <td>16:56</td>\n",
       "      <td>Monday</td>\n",
       "      <td>Home</td>\n",
       "      <td>51.73</td>\n",
       "      <td>125.0</td>\n",
       "      <td>62.8</td>\n",
       "      <td>92.5</td>\n",
       "      <td>49.5</td>\n",
       "      <td>33.6</td>\n",
       "      <td>Yes</td>\n",
       "    </tr>\n",
       "  </tbody>\n",
       "</table>\n",
       "<p>205 rows × 11 columns</p>\n",
       "</div>"
      ],
      "text/plain": [
       "          Date StartTime  DayOfWeek GoingTo  Distance  MaxSpeed  AvgSpeed  \\\n",
       "0     1/6/2012     16:37     Friday    Home     51.29     127.4      78.3   \n",
       "1     1/6/2012     08:20     Friday     GSK     51.63     130.3      81.8   \n",
       "2     1/4/2012     16:17  Wednesday    Home     51.27     127.4      82.0   \n",
       "3     1/4/2012     07:53  Wednesday     GSK     49.17     132.3      74.2   \n",
       "4     1/3/2012     18:57    Tuesday    Home     51.15     136.2      83.4   \n",
       "..         ...       ...        ...     ...       ...       ...       ...   \n",
       "200  7/18/2011     08:09     Monday     GSK     54.52     125.6      49.9   \n",
       "201  7/14/2011     08:03   Thursday     GSK     50.90     123.7      76.2   \n",
       "202  7/13/2011     17:08  Wednesday    Home     51.96     132.6      57.5   \n",
       "203  7/12/2011     17:51    Tuesday    Home     53.28     125.8      61.6   \n",
       "204  7/11/2011     16:56     Monday    Home     51.73     125.0      62.8   \n",
       "\n",
       "     AvgMovingSpeed  TotalTime  MovingTime Take407All  \n",
       "0              84.8       39.3        36.3         No  \n",
       "1              88.9       37.9        34.9         No  \n",
       "2              85.8       37.5        35.9         No  \n",
       "3              82.9       39.8        35.6         No  \n",
       "4              88.1       36.8        34.8         No  \n",
       "..              ...        ...         ...        ...  \n",
       "200            82.4       65.5        39.7         No  \n",
       "201            95.1       40.1        32.1        Yes  \n",
       "202            76.7       54.2        40.6        Yes  \n",
       "203            87.6       51.9        36.5        Yes  \n",
       "204            92.5       49.5        33.6        Yes  \n",
       "\n",
       "[205 rows x 11 columns]"
      ]
     },
     "execution_count": 472,
     "metadata": {},
     "output_type": "execute_result"
    }
   ],
   "source": [
    "data = data.drop(columns = ['FuelEconomy', 'Comments'])\n",
    "data"
   ]
  },
  {
   "cell_type": "markdown",
   "id": "f0fe973c",
   "metadata": {},
   "source": [
    "B1.2"
   ]
  },
  {
   "cell_type": "code",
   "execution_count": 473,
   "id": "678005b8",
   "metadata": {},
   "outputs": [],
   "source": [
    "import numpy as np\n",
    "from sklearn.cluster import KMeans"
   ]
  },
  {
   "cell_type": "code",
   "execution_count": 474,
   "id": "67cbcebe",
   "metadata": {},
   "outputs": [
    {
     "name": "stderr",
     "output_type": "stream",
     "text": [
      "C:\\Users\\huawei\\anaconda3\\Lib\\site-packages\\sklearn\\cluster\\_kmeans.py:1412: FutureWarning: The default value of `n_init` will change from 10 to 'auto' in 1.4. Set the value of `n_init` explicitly to suppress the warning\n",
      "  super()._check_params_vs_input(X, default_n_init=10)\n",
      "C:\\Users\\huawei\\anaconda3\\Lib\\site-packages\\sklearn\\cluster\\_kmeans.py:1436: UserWarning: KMeans is known to have a memory leak on Windows with MKL, when there are less chunks than available threads. You can avoid it by setting the environment variable OMP_NUM_THREADS=1.\n",
      "  warnings.warn(\n"
     ]
    },
    {
     "data": {
      "text/plain": [
       "array([[125.72432432,  52.08108108],\n",
       "       [128.00297619,  39.66309524]])"
      ]
     },
     "execution_count": 474,
     "metadata": {},
     "output_type": "execute_result"
    }
   ],
   "source": [
    "#These two numerical data are chosen in order to form a more concentrated scatter plot rather than a line scatter plot.\n",
    "kmeans = KMeans(n_clusters=2).fit(data[['MaxSpeed', 'TotalTime']])\n",
    "kmeans.cluster_centers_"
   ]
  },
  {
   "cell_type": "markdown",
   "id": "23b9317f",
   "metadata": {},
   "source": [
    "B1.3"
   ]
  },
  {
   "cell_type": "markdown",
   "id": "889f8700",
   "metadata": {},
   "source": [
    "Visualisation of the cleaned-up data."
   ]
  },
  {
   "cell_type": "code",
   "execution_count": 475,
   "id": "3b297aa1",
   "metadata": {},
   "outputs": [
    {
     "data": {
      "image/png": "[encoded data removed]",
      "text/plain": [
       "<Figure size 640x480 with 1 Axes>"
      ]
     },
     "metadata": {},
     "output_type": "display_data"
    }
   ],
   "source": [
    "import matplotlib.pyplot as plt\n",
    "plt.scatter(x=data['MaxSpeed'],y=data['TotalTime']) \n",
    "plt.xlabel('Max Speed')\n",
    "plt.ylabel('Total Time')\n",
    "plt.show()"
   ]
  },
  {
   "cell_type": "markdown",
   "id": "1e50c783",
   "metadata": {},
   "source": [
    "Visualisation of the K-means Clustering"
   ]
  },
  {
   "cell_type": "code",
   "execution_count": 476,
   "id": "7de6a8d8",
   "metadata": {},
   "outputs": [
    {
     "data": {
      "image/png": "[encoded data removed]",
      "text/plain": [
       "<Figure size 640x480 with 1 Axes>"
      ]
     },
     "metadata": {},
     "output_type": "display_data"
    }
   ],
   "source": [
    " plt.scatter(\n",
    "    x=data['MaxSpeed'],\n",
    "    y=data['TotalTime'],\n",
    "    c=kmeans.labels_)\n",
    "    \n",
    "# Visualising the cluster centers\n",
    "plt.plot(\n",
    "    kmeans.cluster_centers_[:,0],\n",
    "    kmeans.cluster_centers_[:,1],\n",
    "    'k*',\n",
    "    markersize=20\n",
    " )\n",
    "plt.xlabel('Max Speed')\n",
    "plt.ylabel('Total Time')\n",
    "plt.show()"
   ]
  },
  {
   "cell_type": "markdown",
   "id": "e8b374a0",
   "metadata": {},
   "source": [
    "The data is separated into two clusters according to their Total Time in travelling.\n",
    "The first cluster from the top(yellow) spend more time in travelling compared to the second cluster(purple).\n",
    "The first cluster also have a more scattered relationship between the total time and max speed compared to the second cluster where the max speed is mostly concentrated in the range around 120 - 135.\n",
    "The clusters are formed according to their similar pattern(total time spent and concentration of max speed)."
   ]
  }
 ],
 "metadata": {
  "kernelspec": {
   "display_name": "Python 3 (ipykernel)",
   "language": "python",
   "name": "python3"
  },
  "language_info": {
   "codemirror_mode": {
    "name": "ipython",
    "version": 3
   },
   "file_extension": ".py",
   "mimetype": "text/x-python",
   "name": "python",
   "nbconvert_exporter": "python",
   "pygments_lexer": "ipython3",
   "version": "3.11.5"
  }
 },
 "nbformat": 4,
 "nbformat_minor": 5
}
